{
 "cells": [
  {
   "cell_type": "markdown",
   "metadata": {},
   "source": [
    "Before you turn this problem in, make sure everything runs as expected. First, **restart the kernel** (in the menubar, select Kernel$\\rightarrow$Restart) and then **run all cells** (in the menubar, select Cell$\\rightarrow$Run All).\n",
    "\n",
    "Make sure you fill in any place that says `YOUR CODE HERE` or \"YOUR ANSWER HERE\", as well as any collaborators you worked with:"
   ]
  },
  {
   "cell_type": "code",
   "execution_count": 1,
   "metadata": {},
   "outputs": [],
   "source": [
    "COLLABORATORS = \"\""
   ]
  },
  {
   "cell_type": "markdown",
   "metadata": {},
   "source": [
    "---"
   ]
  },
  {
   "cell_type": "code",
   "execution_count": 2,
   "metadata": {},
   "outputs": [],
   "source": [
    "%matplotlib inline\n",
    "%precision 16\n",
    "import numpy\n",
    "import matplotlib.pyplot as plt\n",
    "import pandas as pd"
   ]
  },
  {
   "cell_type": "markdown",
   "metadata": {
    "deletable": false,
    "editable": false,
    "nbgrader": {
     "cell_type": "markdown",
     "checksum": "e6a1fa0f818b465feb1fb4ae946be8a4",
     "grade": false,
     "grade_id": "cell-c4123d20c3a14019",
     "locked": true,
     "schema_version": 3,
     "solution": false,
     "task": false
    }
   },
   "source": [
    "# Final Project\n",
    "\n",
    "This notebook will provide a brief structure and rubric for presenting your final project. \n",
    "\n",
    "The purpose of the project is 2-fold\n",
    "* To give you an opportunity to work on a problem you are truly interested in (as this is the best way to actually learn something)\n",
    "* To demonstrate to me that you understand the overall workflow of problem solving from problem selection to implementation to discussion \n",
    "\n",
    "You can choose any subject area that interests you as long as there is a computational component to it.  However, please do not reuse projects or homeworks you have done in other classes.  This should be **your** original work.\n",
    "\n",
    "**You can work in teams, but clearly identify each persons contribution** and every team member should hand in their own copy of the notebook.\n",
    "\n",
    "### Structure\n",
    "There are 5 parts for a total of 100 points that provide the overall structure of a mini research project.\n",
    "\n",
    "* Problem Description\n",
    "* Problem Justification\n",
    "* Description of Computational components needed to address problem\n",
    "* Implementation including tests\n",
    "* Discussion of results and future directions\n",
    "\n",
    "For grading purposes, please try to make this notebook entirely self contained. \n",
    "\n",
    "The project is worth about 2 problem sets and should be of comparable length or less (please: I will have about 100 of these to read and I am not expecting full 10 page papers).  The actual project does not necessarily have to work but in that case you should demonstrate that you understand why it did not work and what steps you would take next to fix it.\n",
    "\n",
    "Have fun"
   ]
  },
  {
   "cell_type": "markdown",
   "metadata": {
    "deletable": false,
    "editable": false,
    "nbgrader": {
     "cell_type": "markdown",
     "checksum": "a4c56b2e7790e118816c0647b15a4a48",
     "grade": false,
     "grade_id": "cell-318b53f4ed873060",
     "locked": true,
     "schema_version": 3,
     "solution": false,
     "task": false
    }
   },
   "source": [
    "## Problem Description [15 pts]\n",
    "\n",
    "In 2-4 paragraphs, describe the general problem you want to solve and the goals you hope to achieve. You should provide any relevant background and references, particularly if you are reproducing results from a paper.  Please use proper spelling and grammar. "
   ]
  },
  {
   "cell_type": "markdown",
   "metadata": {
    "deletable": false,
    "nbgrader": {
     "cell_type": "markdown",
     "checksum": "c21ef06c7198ef08a5c02c42bbe153dc",
     "grade": true,
     "grade_id": "cell-f3a6a5fa3a14f053",
     "locked": false,
     "points": 15,
     "schema_version": 3,
     "solution": true,
     "task": false
    }
   },
   "source": [
    "The continuity equation depends on the application of devices, we will solve the computational problem for photoelectronic diodes.\n",
    "\n",
    "Excess carrier can be generated in neutral N and P region of the semiconductor.  The distribution of excess minority carriers within P region can be calculated by **Bipolar Transportation Equation**, Which is:\n",
    "\n",
    "$$\n",
    "D_{n} \\frac{\\partial^{2}p}{\\partial x^{2}}+G_{L}-\\frac{p}{\\tau_{p0}}=\\frac{\\partial p}{\\partial t}\n",
    "$$\n",
    "\n",
    "Assume that the electric field in the neutral zone (non-space-charge region) is zero. We only focus the equilibrium state $\\partial p/\\partial t=0$. Now the continuity equation becomes an ODE:\n",
    "\n",
    "$$\n",
    "\\frac{\\mathrm{d}^{2}p}{\\mathrm{d} x^{2}}-\\frac{p}{L_{p}^{2}}=-\\frac{G_{L}}{D_{p}}\n",
    "$$\n",
    "Where$L^2_p=D_p \\tau_{p0}$.\n",
    "\n",
    "The solution of this equation has two part: general solution and particular solution. The general solution can be obtained by following equation:\n",
    "\n",
    "$$\n",
    "\\frac{d^{2}p_h}{d x^{2}}-\\frac{p_h}{L_{p}^{2}}=0\n",
    "$$\n",
    "Where $p_h$ is the general solution, calculated by:\n",
    "$$\n",
    "p_h=A \\mathrm{e}^{-x / L_{p}}+B \\mathrm{e}^{+x / L_{p}} \\quad(x \\geqslant 0)\n",
    "$$\n",
    "\n",
    "One boundary condition is that $p_h$ must be finite, which means for semiconductors have long length $B=0$.\n",
    "\n",
    "The particular solution can be obtained by:\n",
    "$$\n",
    "-\\frac{p_p}{L_{p}^{2}}=-\\frac{G_{L}}{D_{p}}\n",
    "$$\n",
    "\n",
    "Therefore we could get:\n",
    "$$\n",
    "p_p=\\frac{G_{L} L_{p}^{2}}{D_{p}}=\\frac{G_{L}\\left(D_{p} \\tau_{p0}\\right)}{D_{p}}=G_{L} \\tau_{p0}\n",
    "$$"
   ]
  },
  {
   "cell_type": "markdown",
   "metadata": {
    "deletable": false,
    "editable": false,
    "nbgrader": {
     "cell_type": "markdown",
     "checksum": "d17c85f2162d381f18c622eebae5d417",
     "grade": false,
     "grade_id": "cell-767b4865829f6440",
     "locked": true,
     "schema_version": 3,
     "solution": false,
     "task": false
    }
   },
   "source": [
    "## Problem Justification [5 pts] \n",
    "\n",
    "Briefly describe why this problem is important to you,  and, if possible, to anyone else."
   ]
  },
  {
   "cell_type": "markdown",
   "metadata": {
    "deletable": false,
    "nbgrader": {
     "cell_type": "markdown",
     "checksum": "62b5aaf67715beeb4a031ab159be50be",
     "grade": true,
     "grade_id": "cell-030bdb11ff77dc41",
     "locked": false,
     "points": 5,
     "schema_version": 3,
     "solution": true,
     "task": false
    }
   },
   "source": []
  },
  {
   "cell_type": "code",
   "execution_count": null,
   "metadata": {},
   "outputs": [],
   "source": []
  },
  {
   "cell_type": "markdown",
   "metadata": {
    "deletable": false,
    "editable": false,
    "nbgrader": {
     "cell_type": "markdown",
     "checksum": "8ccb52b54ce95e4a8ed0bc52fe038104",
     "grade": false,
     "grade_id": "cell-a7a4255dfbbc98e4",
     "locked": true,
     "schema_version": 3,
     "solution": false,
     "task": false
    }
   },
   "source": [
    "## Computational  Methods [10 pts]\n",
    "\n",
    "Briefly describe the specific approach you will take to solve some concrete aspect of the general problem. \n",
    "\n",
    "You should  include all the numerical or computational methods you intend to use.  These can include methods or packages  we did not discuss in class but provide some reference to the method. You do not need to explain how the methods work, but you should briefly justify your choices. \n",
    "\n",
    "**If you need to install or import any additional python packages,  please provide complete installation instructions in the code block below**\n",
    "\n"
   ]
  },
  {
   "cell_type": "markdown",
   "metadata": {
    "deletable": false,
    "nbgrader": {
     "cell_type": "markdown",
     "checksum": "36d5c668364853007ee40c22680478d2",
     "grade": true,
     "grade_id": "cell-fe71c0040eae7d5d",
     "locked": false,
     "points": 10,
     "schema_version": 3,
     "solution": true,
     "task": false
    }
   },
   "source": [
    "YOUR ANSWER HERE"
   ]
  },
  {
   "cell_type": "code",
   "execution_count": 3,
   "metadata": {},
   "outputs": [],
   "source": [
    "# Provide complete installation or import information for external packages or modules here e.g.\n",
    "\n",
    "#pip install somepackage\n",
    "# from somepackage import blah"
   ]
  },
  {
   "cell_type": "markdown",
   "metadata": {
    "deletable": false,
    "editable": false,
    "nbgrader": {
     "cell_type": "markdown",
     "checksum": "16f556c95576d60edbc767a3e7e616a4",
     "grade": false,
     "grade_id": "cell-501a9781d3f83013",
     "locked": true,
     "schema_version": 3,
     "solution": false,
     "task": false
    }
   },
   "source": [
    "## Implementation [60 pts]\n",
    "\n",
    "Use the Markdown and Code blocks below to implement and document your methods including figures.  Only the first code block will be a grading cell but please add (not copy) cells in this section to organize your work. \n",
    "\n",
    "Please make the description of your problem readable by interlacing clear explanatory text with code. \n",
    "All code should be well described and commented.\n",
    "\n",
    "For at least one routine you code below, you should provide a test block (e.g. that implements `numpy.testing` routines) to validate your code."
   ]
  },
  {
   "cell_type": "markdown",
   "metadata": {
    "deletable": false,
    "nbgrader": {
     "cell_type": "markdown",
     "checksum": "11b06e8b1b9fcac0845c1a031f41bc01",
     "grade": true,
     "grade_id": "cell-31f08d5d85bd9afd",
     "locked": false,
     "points": 60,
     "schema_version": 3,
     "solution": true,
     "task": false
    }
   },
   "source": [
    "YOUR ANSWER HERE"
   ]
  },
  {
   "cell_type": "code",
   "execution_count": 5,
   "metadata": {},
   "outputs": [
    {
     "ename": "NameError",
     "evalue": "name 'root_scalar' is not defined",
     "output_type": "error",
     "traceback": [
      "\u001b[0;31m---------------------------------------------------------------------------\u001b[0m",
      "\u001b[0;31mNameError\u001b[0m                                 Traceback (most recent call last)",
      "\u001b[0;32m<ipython-input-5-12e77c14941a>\u001b[0m in \u001b[0;36m<module>\u001b[0;34m\u001b[0m\n\u001b[1;32m    119\u001b[0m \u001b[0;31m# Solution for Silicon\u001b[0m\u001b[0;34m\u001b[0m\u001b[0;34m\u001b[0m\u001b[0;34m\u001b[0m\u001b[0m\n\u001b[1;32m    120\u001b[0m \u001b[0;32mfor\u001b[0m \u001b[0mi\u001b[0m \u001b[0;32min\u001b[0m \u001b[0mrange\u001b[0m\u001b[0;34m(\u001b[0m\u001b[0;36m3\u001b[0m\u001b[0;34m)\u001b[0m\u001b[0;34m:\u001b[0m\u001b[0;34m\u001b[0m\u001b[0;34m\u001b[0m\u001b[0m\n\u001b[0;32m--> 121\u001b[0;31m     \u001b[0msol_Si\u001b[0m\u001b[0;34m[\u001b[0m\u001b[0mi\u001b[0m\u001b[0;34m,\u001b[0m\u001b[0;34m:\u001b[0m\u001b[0;34m]\u001b[0m \u001b[0;34m=\u001b[0m \u001b[0mshoot_bvp\u001b[0m\u001b[0;34m(\u001b[0m\u001b[0mf0\u001b[0m\u001b[0;34m,\u001b[0m \u001b[0mx\u001b[0m\u001b[0;34m,\u001b[0m \u001b[0mu_a\u001b[0m\u001b[0;34m[\u001b[0m\u001b[0mi\u001b[0m\u001b[0;34m]\u001b[0m\u001b[0;34m,\u001b[0m \u001b[0mu_b\u001b[0m\u001b[0;34m,\u001b[0m \u001b[0mrtol\u001b[0m\u001b[0;34m=\u001b[0m\u001b[0;36m1.e-4\u001b[0m\u001b[0;34m,\u001b[0m \u001b[0matol\u001b[0m\u001b[0;34m=\u001b[0m\u001b[0;36m1.e-3\u001b[0m\u001b[0;34m)\u001b[0m\u001b[0;34m\u001b[0m\u001b[0;34m\u001b[0m\u001b[0m\n\u001b[0m\u001b[1;32m    122\u001b[0m \u001b[0;34m\u001b[0m\u001b[0m\n\u001b[1;32m    123\u001b[0m \u001b[0mfig\u001b[0m \u001b[0;34m=\u001b[0m \u001b[0mplt\u001b[0m\u001b[0;34m.\u001b[0m\u001b[0mfigure\u001b[0m\u001b[0;34m(\u001b[0m\u001b[0mfigsize\u001b[0m\u001b[0;34m=\u001b[0m\u001b[0;34m(\u001b[0m\u001b[0;36m16\u001b[0m\u001b[0;34m,\u001b[0m\u001b[0;36m6\u001b[0m\u001b[0;34m)\u001b[0m\u001b[0;34m)\u001b[0m\u001b[0;34m\u001b[0m\u001b[0;34m\u001b[0m\u001b[0m\n",
      "\u001b[0;32m<ipython-input-5-12e77c14941a>\u001b[0m in \u001b[0;36mshoot_bvp\u001b[0;34m(f, x, u_a, u_b, rtol, atol)\u001b[0m\n\u001b[1;32m     90\u001b[0m         \u001b[0;32mreturn\u001b[0m \u001b[0mnumpy\u001b[0m\u001b[0;34m.\u001b[0m\u001b[0mmax\u001b[0m\u001b[0;34m(\u001b[0m\u001b[0mnumpy\u001b[0m\u001b[0;34m.\u001b[0m\u001b[0mabs\u001b[0m\u001b[0;34m(\u001b[0m\u001b[0mu_end\u001b[0m \u001b[0;34m-\u001b[0m \u001b[0mu0_rhs\u001b[0m\u001b[0;34m)\u001b[0m\u001b[0;34m)\u001b[0m\u001b[0;34m\u001b[0m\u001b[0;34m\u001b[0m\u001b[0m\n\u001b[1;32m     91\u001b[0m \u001b[0;34m\u001b[0m\u001b[0m\n\u001b[0;32m---> 92\u001b[0;31m     \u001b[0msol\u001b[0m \u001b[0;34m=\u001b[0m \u001b[0mroot_scalar\u001b[0m\u001b[0;34m(\u001b[0m\u001b[0mconvergence\u001b[0m\u001b[0;34m,\u001b[0m\u001b[0mx0\u001b[0m \u001b[0;34m=\u001b[0m \u001b[0;34m-\u001b[0m\u001b[0;36m1.0\u001b[0m\u001b[0;34m,\u001b[0m \u001b[0mx1\u001b[0m \u001b[0;34m=\u001b[0m \u001b[0;36m1.0\u001b[0m\u001b[0;34m,\u001b[0m\u001b[0mxtol\u001b[0m\u001b[0;34m=\u001b[0m\u001b[0matol\u001b[0m\u001b[0;34m,\u001b[0m \u001b[0mrtol\u001b[0m\u001b[0;34m=\u001b[0m\u001b[0mrtol\u001b[0m\u001b[0;34m)\u001b[0m\u001b[0;34m\u001b[0m\u001b[0;34m\u001b[0m\u001b[0m\n\u001b[0m\u001b[1;32m     93\u001b[0m     \u001b[0mguess\u001b[0m \u001b[0;34m=\u001b[0m \u001b[0msol\u001b[0m\u001b[0;34m.\u001b[0m\u001b[0mroot\u001b[0m\u001b[0;34m\u001b[0m\u001b[0;34m\u001b[0m\u001b[0m\n\u001b[1;32m     94\u001b[0m \u001b[0;34m\u001b[0m\u001b[0m\n",
      "\u001b[0;31mNameError\u001b[0m: name 'root_scalar' is not defined"
     ]
    }
   ],
   "source": [
    "# Compute p0 for each material\n",
    "kT = 0.025852\n",
    "Eg = [1.12, 0.66, 1.424]\n",
    "GL = 10. ** 20.\n",
    "\n",
    "# Product of NaNc\n",
    "Ni[0] = (1.5 * 10. ** 10) ** 2 \n",
    "Ni[1] = (1.8 * 10. ** 6) ** 2\n",
    "Ni[2] = (2.4 * 10. ** 13) ** 2\n",
    "\n",
    "# Lifespan\n",
    "tau = [30. * 10. ** (-6.), 140. * 10. ** (-6.), 10. * 10. ** (-9.)]\n",
    "\n",
    "# Given major carrier concentration\n",
    "impurity = [10. ** 13, 10. ** 14, 10. ** 15]\n",
    "Si_p0 = numpy.empty(3)\n",
    "Ge_p0 = numpy.empty(3)\n",
    "GaAs_p0 = numpy.empty(3)\n",
    "\n",
    "# Compute minor carrier concentration\n",
    "for i in range(3):\n",
    "    Si_p0[i] = Ni[0] / impurity[i]\n",
    "    Ge_p0[i] = Ni[1] / impurity[i]\n",
    "    GaAs_p0[i] = Ni[2] / impurity[i]\n",
    "\n",
    "#print(Si_p0)\n",
    "\n",
    "# Diffusion Constant\n",
    "diff_const = [6.47, 44., 10.]\n",
    "\n",
    "# Diffusion Length\n",
    "Lp = numpy.empty(3)\n",
    "for i in range(3):\n",
    "    Lp[i] = tau[i] * diff_const[i]\n",
    "\n",
    "#donor concentration\n",
    "donor_conc = [10. * 10 ** 13, 10. * 10 ** 14, 10. * 10 ** 15]\n",
    "\n",
    "x = numpy.linspace(0,1,100)\n",
    "\n",
    "\n",
    "# Shooting method\n",
    "def shoot_bvp(f, x, u_a, u_b, rtol=1.e-5, atol=1.e-9):\n",
    "    \"\"\"\n",
    "    Solve the two-point boundary value problem on the interval x\\in [a,b], using a shooting method that combines \n",
    "        scipy.integrate.solve_ivp and scipy.optimize.root_scalar and allows a range of boundary conditions\n",
    "        \n",
    "        \n",
    "    parameters:\n",
    "    -----------\n",
    "    f: calleable \n",
    "        vector value function for righthand side of the ODE with interface f(t,u). returns ndarray of length 2\n",
    "    x: numpy array\n",
    "        coordinates array for solution  on interval [a,b] with x[0] = a, x[-1] = b\n",
    "    u_a:  numpy array (length 2)\n",
    "        provide initial boundary conditions  [u, u' ] at x=a\n",
    "    u_b:  numpy array (length 2)\n",
    "        target boundary condition at x = b\n",
    "    i_a: integer\n",
    "        index of known boundary condition at x = a.  i.e.\n",
    "        if dirichlet conditions : i_a = 0 and u(a) is known  \n",
    "        if neumann conditions   : i_a = 1 and u'(a) is known\n",
    "        the complementary index is adjusted to match the boundary condition at b\n",
    "    i_b: integer\n",
    "        index of known boundary condition at x = b. i.e.\n",
    "        if dirichlet conditions : i_b = 0 and u(b) is known  \n",
    "        if neumann conditions   : i_b = 1 and u'(b) is known\n",
    "        the complementary index is ignored at b\n",
    "    rtol:  float\n",
    "        relative tolerance\n",
    "    atol:  float\n",
    "        absolute tolerance\n",
    "        \n",
    "    returns:\n",
    "    --------\n",
    "    u: solution u(x) for x (uses dense_output from solve_ivp to interpolate solution onto x)\n",
    "    \"\"\"\n",
    "    \n",
    "# YOUR CODE HERE\n",
    "\n",
    "    # Initial Conditions and guess\n",
    "    u0_rhs = u_b\n",
    "    u_lfs = u_a\n",
    "    \n",
    "    def convergence(guess):\n",
    "        u0 = [u_lfs, guess] \n",
    "        sol = solve_ivp(f, [x[0], x[-1]], u0, rtol = rtol, atol = atol)\n",
    "        \n",
    "        u_end = sol.y[0,-1]\n",
    "        return numpy.max(numpy.abs(u_end - u0_rhs))\n",
    "    \n",
    "    sol = root_scalar(convergence,x0 = -1.0, x1 = 1.0,xtol=atol, rtol=rtol)\n",
    "    guess = sol.root\n",
    "    \n",
    "    u0 = [u_lfs, guess]\n",
    "            \n",
    "    sol = solve_ivp(f, [x[0], x[-1]], u0, dense_output=True, rtol = rtol, atol = atol)\n",
    "    u = sol.sol(x)[0]\n",
    "    \n",
    "    return u\n",
    "\n",
    "# Define f for Silicon\n",
    "def f0(x, v):\n",
    "    return numpy.array([v[1], v[0] / Lp[0] ** 2 - GL / diff_const[0]])\n",
    "\n",
    "# Define f for Germanium\n",
    "def f1(x, v):\n",
    "    return numpy.array([v[1], v[0] / Lp[1] ** 2 - GL / diff_const[1]])\n",
    "\n",
    "# Define f for Gallium Arsenide\n",
    "def f2(x, v):\n",
    "    return numpy.array([v[1], v[0] / Lp[2] ** 2 - GL / diff_const[2]])\n",
    "    \n",
    "# Define initial conditions for Silicon\n",
    "u_a = - Si_p0\n",
    "u_b = 0\n",
    "sol_Si = numpy.empty([3,len(x)])\n",
    "\n",
    "# Solution for Silicon\n",
    "for i in range(3):\n",
    "    sol_Si[i,:] = shoot_bvp(f0, x, u_a[i], u_b, rtol=1.e-4, atol=1.e-3)\n",
    "    \n",
    "fig = plt.figure(figsize=(16,6))\n",
    "axes = fig.add_subplot(1, 1, 1)\n",
    "axes.plot(x, sol_Si[0], label=\"u_sol\")\n",
    "#Exact solution\n",
    "p = lambda x: tau[0] * GL - (GL * tau[0] + Si_p0[0]) * numpy.exp(- x / numpy.sqrt(diff_const[0] * tau[0]))\n",
    "#axes.plot(x, p(x), label=\"u_true\")\n",
    "\n",
    "#axes.set_ylim((-Si_p0[0], 0))\n",
    "#axes.set_xlim((0., 0.1))\n",
    "axes.set_xlabel(\"x\")\n",
    "axes.set_ylabel(\"$p$\")\n",
    "axes.legend(loc='best')\n",
    "axes.grid()  "
   ]
  },
  {
   "cell_type": "code",
   "execution_count": null,
   "metadata": {},
   "outputs": [],
   "source": []
  },
  {
   "cell_type": "markdown",
   "metadata": {
    "deletable": false,
    "editable": false,
    "nbgrader": {
     "cell_type": "markdown",
     "checksum": "05cd6d822d37c68f91ba0d6d509397e9",
     "grade": false,
     "grade_id": "cell-8139016f051ab235",
     "locked": true,
     "schema_version": 3,
     "solution": false,
     "task": false
    }
   },
   "source": [
    "## Discussion [10 pts]\n",
    "\n",
    "Discuss the results of your code including \n",
    "* Why do you believe that your numerical results are correct (convergence, test cases etc)?\n",
    "* Did the project work (in your opinion)?\n",
    "* If yes:  what would be the next steps to try\n",
    "* If no:  Explain why your approach did not work and what you would do differently next time\n"
   ]
  },
  {
   "cell_type": "markdown",
   "metadata": {
    "deletable": false,
    "nbgrader": {
     "cell_type": "markdown",
     "checksum": "c9a6bc1bd11c0e30eac1ac25f6ca71bb",
     "grade": true,
     "grade_id": "cell-596162f90cd1e909",
     "locked": false,
     "points": 10,
     "schema_version": 3,
     "solution": true,
     "task": false
    }
   },
   "source": [
    "YOUR ANSWER HERE"
   ]
  }
 ],
 "metadata": {
  "kernelspec": {
   "display_name": "Python 3",
   "language": "python",
   "name": "python3"
  },
  "language_info": {
   "codemirror_mode": {
    "name": "ipython",
    "version": 3
   },
   "file_extension": ".py",
   "mimetype": "text/x-python",
   "name": "python",
   "nbconvert_exporter": "python",
   "pygments_lexer": "ipython3",
   "version": "3.8.8"
  },
  "latex_envs": {
   "bibliofile": "biblio.bib",
   "cite_by": "apalike",
   "current_citInitial": 1,
   "eqLabelWithNumbers": true,
   "eqNumInitial": 0
  }
 },
 "nbformat": 4,
 "nbformat_minor": 4
}
